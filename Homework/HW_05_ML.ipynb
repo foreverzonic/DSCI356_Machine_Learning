{
 "cells": [
  {
   "cell_type": "code",
   "execution_count": 1,
   "metadata": {},
   "outputs": [],
   "source": [
    "import numpy as np"
   ]
  },
  {
   "cell_type": "code",
   "execution_count": 2,
   "metadata": {},
   "outputs": [
    {
     "name": "stdout",
     "output_type": "stream",
     "text": [
      "(6, 2)\n",
      "[[ 6 15]\n",
      " [ 8 17]\n",
      " [ 2 23]\n",
      " [ 5 25]\n",
      " [10 21]\n",
      " [ 4 16]]\n"
     ]
    }
   ],
   "source": [
    "X_train = np.array([[6, 15],\n",
    "                   [8, 17],\n",
    "                   [2, 23],\n",
    "                   [5, 25],\n",
    "                   [10, 21],\n",
    "                   [4, 16]])\n",
    "print(X_train.shape)\n",
    "print(X_train)"
   ]
  },
  {
   "cell_type": "code",
   "execution_count": 3,
   "metadata": {},
   "outputs": [
    {
     "name": "stdout",
     "output_type": "stream",
     "text": [
      "(4, 2)\n",
      "[[ 5 20]\n",
      " [ 4 18]\n",
      " [12 15]\n",
      " [ 7 16]]\n"
     ]
    }
   ],
   "source": [
    "X_val = np.array([[5, 20],\n",
    "                 [4, 18],\n",
    "                 [12, 15],\n",
    "                 [7, 16]])\n",
    "print(X_val.shape)\n",
    "print(X_val)"
   ]
  },
  {
   "cell_type": "code",
   "execution_count": 4,
   "metadata": {},
   "outputs": [
    {
     "name": "stdout",
     "output_type": "stream",
     "text": [
      "(4, 2)\n",
      "[[ 3 16]\n",
      " [ 1 25]\n",
      " [ 4 12]\n",
      " [ 9 24]]\n"
     ]
    }
   ],
   "source": [
    "X_test = np.array([[3, 16],\n",
    "                  [1, 25],\n",
    "                  [4, 12],\n",
    "                  [9, 24]])\n",
    "print(X_test.shape)\n",
    "print(X_test)"
   ]
  },
  {
   "cell_type": "code",
   "execution_count": 5,
   "metadata": {},
   "outputs": [
    {
     "name": "stdout",
     "output_type": "stream",
     "text": [
      "[[0.5   0.   ]\n",
      " [0.75  0.2  ]\n",
      " [0.    0.8  ]\n",
      " [0.375 1.   ]\n",
      " [1.    0.6  ]\n",
      " [0.25  0.1  ]]\n",
      "[[0.375 0.5  ]\n",
      " [0.25  0.3  ]\n",
      " [1.25  0.   ]\n",
      " [0.625 0.1  ]]\n",
      "[[ 0.125  0.1  ]\n",
      " [-0.125  1.   ]\n",
      " [ 0.25  -0.3  ]\n",
      " [ 0.875  0.9  ]]\n"
     ]
    },
    {
     "name": "stderr",
     "output_type": "stream",
     "text": [
      "D:\\Anaconda3\\lib\\site-packages\\sklearn\\utils\\validation.py:595: DataConversionWarning: Data with input dtype int32 was converted to float64 by MinMaxScaler.\n",
      "  warnings.warn(msg, DataConversionWarning)\n"
     ]
    }
   ],
   "source": [
    "from sklearn.preprocessing import MinMaxScaler\n",
    "scaler = MinMaxScaler()\n",
    "scaler.fit(X_train)\n",
    "Xs_train = scaler.transform(X_train)\n",
    "Xs_val = scaler.transform(X_val)\n",
    "Xs_test = scaler.transform(X_test)\n",
    "print(Xs_train)\n",
    "print(Xs_val)\n",
    "print(Xs_test)"
   ]
  },
  {
   "cell_type": "code",
   "execution_count": 6,
   "metadata": {},
   "outputs": [],
   "source": [
    "beta1 = np.array([6, 5.6, -3.2, 2.4])\n",
    "beta2 = np.array([7, 3.2, -2.2, 1.8])\n",
    "beta3 = np.array([5, 4.4, -0.2, 0.8])\n",
    "\n",
    "y1 = np.array([8.1, 12.9, 13.8, 17.6, 18.3])\n",
    "y2 = np.array([9.5, 9.8, 16.4, 16.4, 18.1])\n",
    "y3 = np.array([11.8, 11.7, 16.5, 15.2, 17.6])\n",
    "y_true = np.array([9.8, 12.1, 14.6, 15.7, 19.5])"
   ]
  },
  {
   "cell_type": "code",
   "execution_count": 7,
   "metadata": {},
   "outputs": [
    {
     "name": "stdout",
     "output_type": "stream",
     "text": [
      "sse1:  9.22000000000001\n",
      "sse2:  11.069999999999986\n",
      "sse3:  11.629999999999995\n"
     ]
    }
   ],
   "source": [
    "y1_res = y1 - y_true\n",
    "sse1 = np.sum(y1_res ** 2)\n",
    "y2_res = y2 - y_true\n",
    "sse2 = np.sum(y2_res ** 2)\n",
    "y3_res = y3 - y_true\n",
    "sse3 = np.sum(y3_res ** 2)\n",
    "print(\"sse1: \", sse1)\n",
    "print(\"sse2: \", sse2)\n",
    "print(\"sse3: \", sse3)"
   ]
  },
  {
   "cell_type": "code",
   "execution_count": 8,
   "metadata": {},
   "outputs": [
    {
     "name": "stdout",
     "output_type": "stream",
     "text": [
      "beta1_squared:  83.36\n",
      "beta2_squared:  67.32\n",
      "beta3_squared:  45.04\n"
     ]
    }
   ],
   "source": [
    "beta1_squared = np.sum(beta1 ** 2)\n",
    "beta2_squared = np.sum(beta2 ** 2)\n",
    "beta3_squared = np.sum(beta3 ** 2)\n",
    "\n",
    "print(\"beta1_squared: \",beta1_squared)\n",
    "print(\"beta2_squared: \",beta2_squared)\n",
    "print(\"beta3_squared: \",beta3_squared)"
   ]
  },
  {
   "cell_type": "code",
   "execution_count": 9,
   "metadata": {},
   "outputs": [
    {
     "name": "stdout",
     "output_type": "stream",
     "text": [
      "ridge1:  50.900000000000006\n",
      "ridge2:  44.72999999999998\n",
      "ridge3:  34.14999999999999\n"
     ]
    }
   ],
   "source": [
    "alpha = 0.5\n",
    "\n",
    "ridge1 = sse1 + alpha*beta1_squared\n",
    "ridge2 = sse2 + alpha*beta2_squared\n",
    "ridge3 = sse3 + alpha*beta3_squared\n",
    "\n",
    "print(\"ridge1: \", ridge1)\n",
    "print(\"ridge2: \", ridge2)\n",
    "print(\"ridge3: \", ridge3)"
   ]
  },
  {
   "cell_type": "code",
   "execution_count": 10,
   "metadata": {},
   "outputs": [
    {
     "name": "stdout",
     "output_type": "stream",
     "text": [
      "beta1_abs:  17.2\n",
      "beta2_abs:  14.2\n",
      "beta3_abs:  10.4\n"
     ]
    }
   ],
   "source": [
    "beta1_abs = np.sum(abs(beta1))\n",
    "beta2_abs = np.sum(abs(beta2))\n",
    "beta3_abs = np.sum(abs(beta3))\n",
    "\n",
    "print(\"beta1_abs: \", beta1_abs)\n",
    "print(\"beta2_abs: \", beta2_abs)\n",
    "print(\"beta3_abs: \", beta3_abs)"
   ]
  },
  {
   "cell_type": "code",
   "execution_count": 11,
   "metadata": {},
   "outputs": [
    {
     "name": "stdout",
     "output_type": "stream",
     "text": [
      "lasso1:  17.820000000000007\n",
      "lasso2:  18.169999999999987\n",
      "lasso3:  16.829999999999995\n"
     ]
    }
   ],
   "source": [
    "lasso1 = sse1 + alpha*beta1_abs\n",
    "lasso2 = sse2 + alpha*beta2_abs\n",
    "lasso3 = sse3 + alpha*beta3_abs\n",
    "\n",
    "print(\"lasso1: \", lasso1)\n",
    "print(\"lasso2: \", lasso2)\n",
    "print(\"lasso3: \", lasso3)"
   ]
  },
  {
   "cell_type": "code",
   "execution_count": null,
   "metadata": {},
   "outputs": [],
   "source": []
  }
 ],
 "metadata": {
  "kernelspec": {
   "display_name": "Python 3",
   "language": "python",
   "name": "python3"
  },
  "language_info": {
   "codemirror_mode": {
    "name": "ipython",
    "version": 3
   },
   "file_extension": ".py",
   "mimetype": "text/x-python",
   "name": "python",
   "nbconvert_exporter": "python",
   "pygments_lexer": "ipython3",
   "version": "3.6.8"
  }
 },
 "nbformat": 4,
 "nbformat_minor": 2
}
