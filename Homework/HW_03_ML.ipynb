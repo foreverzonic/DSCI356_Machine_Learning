{
 "cells": [
  {
   "cell_type": "code",
   "execution_count": 1,
   "metadata": {},
   "outputs": [],
   "source": [
    "import numpy as np\n",
    "from sklearn.preprocessing import PolynomialFeatures, OneHotEncoder"
   ]
  },
  {
   "cell_type": "code",
   "execution_count": 2,
   "metadata": {},
   "outputs": [
    {
     "name": "stdout",
     "output_type": "stream",
     "text": [
      "(6, 1)\n",
      "[[3]\n",
      " [1]\n",
      " [0]\n",
      " [2]\n",
      " [4]\n",
      " [2]]\n",
      "[[2, 'S'], [1, 'F'], [1, 'S'], [1, 'D'], [2, 'D'], [1, 'F']]\n"
     ]
    }
   ],
   "source": [
    "X_num = np.array([[3], [1], [0], [2], [4], [2]])\n",
    "print(X_num.shape)\n",
    "print(X_num)\n",
    "\n",
    "X_cat = ([[2, 'S'], [1, 'F'], [1, 'S'], [1, 'D'], [2, 'D'], [1, 'F']])\n",
    "print(X_cat)"
   ]
  },
  {
   "cell_type": "code",
   "execution_count": 3,
   "metadata": {},
   "outputs": [
    {
     "name": "stdout",
     "output_type": "stream",
     "text": [
      "[[ 1.  3.  9.]\n",
      " [ 1.  1.  1.]\n",
      " [ 1.  0.  0.]\n",
      " [ 1.  2.  4.]\n",
      " [ 1.  4. 16.]\n",
      " [ 1.  2.  4.]]\n",
      "[[0. 1. 0. 0. 1.]\n",
      " [1. 0. 0. 1. 0.]\n",
      " [1. 0. 0. 0. 1.]\n",
      " [1. 0. 1. 0. 0.]\n",
      " [0. 1. 1. 0. 0.]\n",
      " [1. 0. 0. 1. 0.]]\n"
     ]
    }
   ],
   "source": [
    "poly = PolynomialFeatures(2)\n",
    "Xp = poly.fit_transform(X_num)\n",
    "print(Xp)\n",
    "enc = OneHotEncoder(sparse = False)\n",
    "Xe = enc.fit_transform(X_cat)\n",
    "print(Xe)\n",
    "X_preprocessed = np.hstack((Xp, Xe))"
   ]
  },
  {
   "cell_type": "code",
   "execution_count": 4,
   "metadata": {},
   "outputs": [
    {
     "name": "stdout",
     "output_type": "stream",
     "text": [
      "[[ 1.  3.  9.  0.  1.  0.  0.  1.]\n",
      " [ 1.  1.  1.  1.  0.  0.  1.  0.]\n",
      " [ 1.  0.  0.  1.  0.  0.  0.  1.]\n",
      " [ 1.  2.  4.  1.  0.  1.  0.  0.]\n",
      " [ 1.  4. 16.  0.  1.  1.  0.  0.]\n",
      " [ 1.  2.  4.  1.  0.  0.  1.  0.]]\n"
     ]
    }
   ],
   "source": [
    "print(X_preprocessed)"
   ]
  },
  {
   "cell_type": "code",
   "execution_count": null,
   "metadata": {},
   "outputs": [],
   "source": []
  }
 ],
 "metadata": {
  "kernelspec": {
   "display_name": "Python 3",
   "language": "python",
   "name": "python3"
  },
  "language_info": {
   "codemirror_mode": {
    "name": "ipython",
    "version": 3
   },
   "file_extension": ".py",
   "mimetype": "text/x-python",
   "name": "python",
   "nbconvert_exporter": "python",
   "pygments_lexer": "ipython3",
   "version": "3.6.8"
  }
 },
 "nbformat": 4,
 "nbformat_minor": 2
}
